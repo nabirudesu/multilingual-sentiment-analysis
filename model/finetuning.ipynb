{
 "cells": [
  {
   "cell_type": "markdown",
   "metadata": {},
   "source": [
    "### Imporrint necessary libraries"
   ]
  },
  {
   "cell_type": "code",
   "execution_count": 1,
   "metadata": {},
   "outputs": [],
   "source": [
    "import os\n",
    "\n",
    "import tensorflow as tf\n",
    "import pandas as pd\n",
    "import numpy as np\n",
    "import matplotlib as plt\n",
    "\n",
    "import tensorflow_hub as hub\n",
    "from tensorflow.keras.models import Model\n",
    "from tensorflow.keras.layers import Dense, Input\n",
    "import tensorflow_text\n",
    "\n",
    "from langdetect import detect\n"
   ]
  },
  {
   "cell_type": "markdown",
   "metadata": {},
   "source": [
    "### Loading The Data"
   ]
  },
  {
   "cell_type": "code",
   "execution_count": 2,
   "metadata": {},
   "outputs": [
    {
     "data": {
      "text/html": [
       "<div>\n",
       "<style scoped>\n",
       "    .dataframe tbody tr th:only-of-type {\n",
       "        vertical-align: middle;\n",
       "    }\n",
       "\n",
       "    .dataframe tbody tr th {\n",
       "        vertical-align: top;\n",
       "    }\n",
       "\n",
       "    .dataframe thead th {\n",
       "        text-align: right;\n",
       "    }\n",
       "</style>\n",
       "<table border=\"1\" class=\"dataframe\">\n",
       "  <thead>\n",
       "    <tr style=\"text-align: right;\">\n",
       "      <th></th>\n",
       "      <th>campaign_id</th>\n",
       "      <th>comment_id</th>\n",
       "      <th>comment_description</th>\n",
       "      <th>sentiment</th>\n",
       "    </tr>\n",
       "  </thead>\n",
       "  <tbody>\n",
       "    <tr>\n",
       "      <th>0</th>\n",
       "      <td>2212</td>\n",
       "      <td>17908351952371091</td>\n",
       "      <td>لخسارة الوزن الزائد والكرش بمدة قياسية مع عدم ...</td>\n",
       "      <td>Negative</td>\n",
       "    </tr>\n",
       "    <tr>\n",
       "      <th>1</th>\n",
       "      <td>2217</td>\n",
       "      <td>17935944230085744</td>\n",
       "      <td>🔥🔥🔥</td>\n",
       "      <td>Positive</td>\n",
       "    </tr>\n",
       "    <tr>\n",
       "      <th>2</th>\n",
       "      <td>2215S</td>\n",
       "      <td>17899518356507020</td>\n",
       "      <td>This is so good😍 would be great it If you add ...</td>\n",
       "      <td>Negative</td>\n",
       "    </tr>\n",
       "    <tr>\n",
       "      <th>3</th>\n",
       "      <td>2214</td>\n",
       "      <td>18014766136389857</td>\n",
       "      <td>😍</td>\n",
       "      <td>Positive</td>\n",
       "    </tr>\n",
       "    <tr>\n",
       "      <th>4</th>\n",
       "      <td>2203</td>\n",
       "      <td>17924318627206870</td>\n",
       "      <td>طبق رائع ومميز تبارك الرحمن تسلم ايدك يارب 😍</td>\n",
       "      <td>Positive</td>\n",
       "    </tr>\n",
       "  </tbody>\n",
       "</table>\n",
       "</div>"
      ],
      "text/plain": [
       "  campaign_id         comment_id  \\\n",
       "0        2212  17908351952371091   \n",
       "1        2217  17935944230085744   \n",
       "2       2215S  17899518356507020   \n",
       "3        2214  18014766136389857   \n",
       "4        2203  17924318627206870   \n",
       "\n",
       "                                 comment_description sentiment  \n",
       "0  لخسارة الوزن الزائد والكرش بمدة قياسية مع عدم ...  Negative  \n",
       "1                                                🔥🔥🔥  Positive  \n",
       "2  This is so good😍 would be great it If you add ...  Negative  \n",
       "3                                                  😍  Positive  \n",
       "4       طبق رائع ومميز تبارك الرحمن تسلم ايدك يارب 😍  Positive  "
      ]
     },
     "execution_count": 2,
     "metadata": {},
     "output_type": "execute_result"
    }
   ],
   "source": [
    "path_to_train_data=\"../Dataset/train_data.csv\"\n",
    "path_to_test_data=\"../Dataset/test_data.csv\"\n",
    "train_data= pd.read_csv(path_to_train_data)\n",
    "test_data= pd.read_csv(path_to_test_data)\n",
    "train_data.head()"
   ]
  },
  {
   "cell_type": "markdown",
   "metadata": {},
   "source": [
    "- dataset caracteristics"
   ]
  },
  {
   "cell_type": "code",
   "execution_count": 3,
   "metadata": {},
   "outputs": [
    {
     "name": "stdout",
     "output_type": "stream",
     "text": [
      "campaign_id            object\n",
      "comment_id              int64\n",
      "comment_description    object\n",
      "sentiment              object\n",
      "dtype: object\n"
     ]
    },
    {
     "data": {
      "text/html": [
       "<div>\n",
       "<style scoped>\n",
       "    .dataframe tbody tr th:only-of-type {\n",
       "        vertical-align: middle;\n",
       "    }\n",
       "\n",
       "    .dataframe tbody tr th {\n",
       "        vertical-align: top;\n",
       "    }\n",
       "\n",
       "    .dataframe thead tr th {\n",
       "        text-align: left;\n",
       "    }\n",
       "\n",
       "    .dataframe thead tr:last-of-type th {\n",
       "        text-align: right;\n",
       "    }\n",
       "</style>\n",
       "<table border=\"1\" class=\"dataframe\">\n",
       "  <thead>\n",
       "    <tr>\n",
       "      <th></th>\n",
       "      <th colspan=\"8\" halign=\"left\">comment_id</th>\n",
       "    </tr>\n",
       "    <tr>\n",
       "      <th></th>\n",
       "      <th>count</th>\n",
       "      <th>mean</th>\n",
       "      <th>std</th>\n",
       "      <th>min</th>\n",
       "      <th>25%</th>\n",
       "      <th>50%</th>\n",
       "      <th>75%</th>\n",
       "      <th>max</th>\n",
       "    </tr>\n",
       "    <tr>\n",
       "      <th>sentiment</th>\n",
       "      <th></th>\n",
       "      <th></th>\n",
       "      <th></th>\n",
       "      <th></th>\n",
       "      <th></th>\n",
       "      <th></th>\n",
       "      <th></th>\n",
       "      <th></th>\n",
       "    </tr>\n",
       "  </thead>\n",
       "  <tbody>\n",
       "    <tr>\n",
       "      <th>Irrelevant</th>\n",
       "      <td>2.0</td>\n",
       "      <td>1.803449e+16</td>\n",
       "      <td>2.727242e+13</td>\n",
       "      <td>1.801520e+16</td>\n",
       "      <td>1.802484e+16</td>\n",
       "      <td>1.803449e+16</td>\n",
       "      <td>1.804413e+16</td>\n",
       "      <td>1.805377e+16</td>\n",
       "    </tr>\n",
       "    <tr>\n",
       "      <th>Negative</th>\n",
       "      <td>1082.0</td>\n",
       "      <td>1.799547e+16</td>\n",
       "      <td>1.215232e+14</td>\n",
       "      <td>1.784320e+16</td>\n",
       "      <td>1.791969e+16</td>\n",
       "      <td>1.795389e+16</td>\n",
       "      <td>1.802626e+16</td>\n",
       "      <td>1.840129e+16</td>\n",
       "    </tr>\n",
       "    <tr>\n",
       "      <th>Positive</th>\n",
       "      <td>4416.0</td>\n",
       "      <td>1.799213e+16</td>\n",
       "      <td>1.177287e+14</td>\n",
       "      <td>1.784217e+16</td>\n",
       "      <td>1.791955e+16</td>\n",
       "      <td>1.795206e+16</td>\n",
       "      <td>1.801864e+16</td>\n",
       "      <td>1.840678e+16</td>\n",
       "    </tr>\n",
       "  </tbody>\n",
       "</table>\n",
       "</div>"
      ],
      "text/plain": [
       "           comment_id                                                          \\\n",
       "                count          mean           std           min           25%   \n",
       "sentiment                                                                       \n",
       "Irrelevant        2.0  1.803449e+16  2.727242e+13  1.801520e+16  1.802484e+16   \n",
       "Negative       1082.0  1.799547e+16  1.215232e+14  1.784320e+16  1.791969e+16   \n",
       "Positive       4416.0  1.799213e+16  1.177287e+14  1.784217e+16  1.791955e+16   \n",
       "\n",
       "                                                      \n",
       "                     50%           75%           max  \n",
       "sentiment                                             \n",
       "Irrelevant  1.803449e+16  1.804413e+16  1.805377e+16  \n",
       "Negative    1.795389e+16  1.802626e+16  1.840129e+16  \n",
       "Positive    1.795206e+16  1.801864e+16  1.840678e+16  "
      ]
     },
     "execution_count": 3,
     "metadata": {},
     "output_type": "execute_result"
    }
   ],
   "source": [
    "print(train_data.dtypes)\n",
    "train_data.groupby('sentiment').describe()"
   ]
  },
  {
   "cell_type": "markdown",
   "metadata": {},
   "source": [
    "### Loading and building Bert Model"
   ]
  },
  {
   "cell_type": "code",
   "execution_count": 4,
   "metadata": {},
   "outputs": [
    {
     "name": "stdout",
     "output_type": "stream",
     "text": [
      "Model: \"model\"\n",
      "__________________________________________________________________________________________________\n",
      " Layer (type)                   Output Shape         Param #     Connected to                     \n",
      "==================================================================================================\n",
      " input_text (InputLayer)        [(None,)]            0           []                               \n",
      "                                                                                                  \n",
      " preprocessor (KerasLayer)      {'input_mask': (Non  0           ['input_text[0][0]']             \n",
      "                                e, 128),                                                          \n",
      "                                 'input_type_ids':                                                \n",
      "                                (None, 128),                                                      \n",
      "                                 'input_word_ids':                                                \n",
      "                                (None, 128)}                                                      \n",
      "                                                                                                  \n",
      " Bert_encoder (KerasLayer)      [(None, 768),        177853441   ['preprocessor[0][2]',           \n",
      "                                 (None, 128, 768)]                'preprocessor[0][0]',           \n",
      "                                                                  'preprocessor[0][1]']           \n",
      "                                                                                                  \n",
      " dense (Dense)                  (None, 256)          196864      ['Bert_encoder[0][0]']           \n",
      "                                                                                                  \n",
      " classifier (Dense)             (None, 1)            257         ['dense[0][0]']                  \n",
      "                                                                                                  \n",
      "==================================================================================================\n",
      "Total params: 178,050,562\n",
      "Trainable params: 178,050,561\n",
      "Non-trainable params: 1\n",
      "__________________________________________________________________________________________________\n"
     ]
    }
   ],
   "source": [
    "model_path= \"./Bert_model/bert_cased\"\n",
    "preprocessor_path=\"./Bert_model/bert_multi_cased_preprocessor\"\n",
    "\n",
    "def define_model(preprocessor_path,model_path):\n",
    "    # Loading model and preprocessor\n",
    "    input_text = Input(shape=(), dtype=tf.string, name=\"input_text\")\n",
    "    preprocessor_layer=hub.KerasLayer(preprocessor_path,name='preprocessor')\n",
    "    preprocessed_inputs=preprocessor_layer(input_text)\n",
    "    \n",
    "    input_word_ids = preprocessed_inputs['input_word_ids']\n",
    "    input_mask = preprocessed_inputs['input_mask']\n",
    "    input_type_ids = preprocessed_inputs['input_type_ids']\n",
    "    \n",
    "    bert_layer = hub.KerasLayer(model_path, trainable=True,name='Bert_encoder')\n",
    "    bert_outputs = bert_layer([input_word_ids,input_mask,input_type_ids])\n",
    "    dense = Dense(256, activation='relu')(bert_outputs[0])\n",
    "    output_layer = Dense(1, activation='sigmoid',name='classifier')(dense)  # Binary classification, change units for multi-class\n",
    "    model = Model(input_text, output_layer)\n",
    "    return model,preprocessor_layer\n",
    "bert_classifier,bert_preprocessor=define_model(preprocessor_path,model_path)\n",
    "bert_classifier.summary()"
   ]
  },
  {
   "cell_type": "markdown",
   "metadata": {},
   "source": [
    "### Preprocessing Data"
   ]
  },
  {
   "cell_type": "markdown",
   "metadata": {},
   "source": [
    "- Removing non arabic and non english comment from the dataset"
   ]
  },
  {
   "cell_type": "code",
   "execution_count": 5,
   "metadata": {},
   "outputs": [
    {
     "data": {
      "text/html": [
       "<div>\n",
       "<style scoped>\n",
       "    .dataframe tbody tr th:only-of-type {\n",
       "        vertical-align: middle;\n",
       "    }\n",
       "\n",
       "    .dataframe tbody tr th {\n",
       "        vertical-align: top;\n",
       "    }\n",
       "\n",
       "    .dataframe thead tr th {\n",
       "        text-align: left;\n",
       "    }\n",
       "\n",
       "    .dataframe thead tr:last-of-type th {\n",
       "        text-align: right;\n",
       "    }\n",
       "</style>\n",
       "<table border=\"1\" class=\"dataframe\">\n",
       "  <thead>\n",
       "    <tr>\n",
       "      <th></th>\n",
       "      <th colspan=\"8\" halign=\"left\">comment_id</th>\n",
       "    </tr>\n",
       "    <tr>\n",
       "      <th></th>\n",
       "      <th>count</th>\n",
       "      <th>mean</th>\n",
       "      <th>std</th>\n",
       "      <th>min</th>\n",
       "      <th>25%</th>\n",
       "      <th>50%</th>\n",
       "      <th>75%</th>\n",
       "      <th>max</th>\n",
       "    </tr>\n",
       "    <tr>\n",
       "      <th>sentiment</th>\n",
       "      <th></th>\n",
       "      <th></th>\n",
       "      <th></th>\n",
       "      <th></th>\n",
       "      <th></th>\n",
       "      <th></th>\n",
       "      <th></th>\n",
       "      <th></th>\n",
       "    </tr>\n",
       "  </thead>\n",
       "  <tbody>\n",
       "    <tr>\n",
       "      <th>Negative</th>\n",
       "      <td>873.0</td>\n",
       "      <td>1.799507e+16</td>\n",
       "      <td>1.185089e+14</td>\n",
       "      <td>1.784320e+16</td>\n",
       "      <td>1.792365e+16</td>\n",
       "      <td>1.795419e+16</td>\n",
       "      <td>1.802385e+16</td>\n",
       "      <td>1.840129e+16</td>\n",
       "    </tr>\n",
       "    <tr>\n",
       "      <th>Positive</th>\n",
       "      <td>3449.0</td>\n",
       "      <td>1.799202e+16</td>\n",
       "      <td>1.186573e+14</td>\n",
       "      <td>1.784231e+16</td>\n",
       "      <td>1.791887e+16</td>\n",
       "      <td>1.795118e+16</td>\n",
       "      <td>1.801720e+16</td>\n",
       "      <td>1.840678e+16</td>\n",
       "    </tr>\n",
       "  </tbody>\n",
       "</table>\n",
       "</div>"
      ],
      "text/plain": [
       "          comment_id                                                          \\\n",
       "               count          mean           std           min           25%   \n",
       "sentiment                                                                      \n",
       "Negative       873.0  1.799507e+16  1.185089e+14  1.784320e+16  1.792365e+16   \n",
       "Positive      3449.0  1.799202e+16  1.186573e+14  1.784231e+16  1.791887e+16   \n",
       "\n",
       "                                                     \n",
       "                    50%           75%           max  \n",
       "sentiment                                            \n",
       "Negative   1.795419e+16  1.802385e+16  1.840129e+16  \n",
       "Positive   1.795118e+16  1.801720e+16  1.840678e+16  "
      ]
     },
     "execution_count": 5,
     "metadata": {},
     "output_type": "execute_result"
    }
   ],
   "source": [
    "# Remove sentiments with irrelevant class because they are only two\n",
    "irrelevant_indexes=train_data[train_data['sentiment']=='Irrelevant'].index\n",
    "train_data.drop(irrelevant_indexes,inplace=True)\n",
    "# remove non english and non arabic comments \n",
    "i=0\n",
    "while i <= len(train_data):\n",
    "    try:\n",
    "        lang= detect(train_data.iloc[i,2])\n",
    "        if lang !='ar' and lang !='eng':\n",
    "            train_data.drop(i,inplace=True)\n",
    "            i=i+1\n",
    "        else:\n",
    "            i=i+1\n",
    "            continue\n",
    "    except:\n",
    "        i=i+1\n",
    "        continue\n",
    "train_data.groupby('sentiment').describe()"
   ]
  },
  {
   "cell_type": "markdown",
   "metadata": {},
   "source": [
    "- Cleaning Strings"
   ]
  },
  {
   "cell_type": "code",
   "execution_count": 22,
   "metadata": {},
   "outputs": [],
   "source": [
    "# blance data"
   ]
  },
  {
   "cell_type": "markdown",
   "metadata": {},
   "source": [
    "- Splitting comment and sentiments"
   ]
  },
  {
   "cell_type": "code",
   "execution_count": 9,
   "metadata": {},
   "outputs": [],
   "source": [
    "train_comments=train_data['comment_description'].astype(str).values\n",
    "#changing sentiment labels from (negativ, positive) to (0,1)\n",
    "train_labels=train_data['sentiment'].astype(str)\n",
    "train_labels,uniques=pd.factorize(train_labels.values)"
   ]
  },
  {
   "cell_type": "markdown",
   "metadata": {},
   "source": [
    "### Evaluate pretrained Bert model"
   ]
  },
  {
   "cell_type": "code",
   "execution_count": 12,
   "metadata": {},
   "outputs": [
    {
     "name": "stdout",
     "output_type": "stream",
     "text": [
      "1/1 [==============================] - 0s 54ms/step\n"
     ]
    }
   ],
   "source": [
    "pred = bert_classifier.predict(['nice one'])"
   ]
  },
  {
   "cell_type": "markdown",
   "metadata": {},
   "source": [
    "### Fine tune bert model"
   ]
  },
  {
   "cell_type": "markdown",
   "metadata": {},
   "source": [
    "- Model compiling and Hyperparameters congiguration"
   ]
  },
  {
   "cell_type": "code",
   "execution_count": 12,
   "metadata": {},
   "outputs": [],
   "source": [
    "metrics = [tf.keras.metrics.SparseCategoricalAccuracy('accuracy', dtype=tf.float32)]\n",
    "loss = tf.keras.losses.SparseCategoricalCrossentropy()\n",
    "\n",
    "bert_classifier.compile(optimizer=\"adam\",loss=loss, metrics=metrics)"
   ]
  },
  {
   "cell_type": "markdown",
   "metadata": {},
   "source": [
    "- Training the model"
   ]
  },
  {
   "cell_type": "code",
   "execution_count": null,
   "metadata": {},
   "outputs": [],
   "source": [
    "# model fit on the data\n",
    "epochs=10\n",
    "batch_size = 10\n",
    "\n",
    "bert_classifier.fit(\n",
    "    train_comments,\n",
    "    train_labels,\n",
    "    epochs=epochs,\n",
    "    batch_size=batch_size\n",
    ")"
   ]
  },
  {
   "cell_type": "markdown",
   "metadata": {},
   "source": [
    "### Evaluate fine tuned model"
   ]
  },
  {
   "cell_type": "code",
   "execution_count": null,
   "metadata": {},
   "outputs": [],
   "source": []
  },
  {
   "cell_type": "markdown",
   "metadata": {},
   "source": [
    "### Export the model"
   ]
  },
  {
   "cell_type": "code",
   "execution_count": null,
   "metadata": {},
   "outputs": [],
   "source": []
  }
 ],
 "metadata": {
  "kernelspec": {
   "display_name": "Python 3",
   "language": "python",
   "name": "python3"
  },
  "language_info": {
   "codemirror_mode": {
    "name": "ipython",
    "version": 3
   },
   "file_extension": ".py",
   "mimetype": "text/x-python",
   "name": "python",
   "nbconvert_exporter": "python",
   "pygments_lexer": "ipython3",
   "version": "3.9.16"
  }
 },
 "nbformat": 4,
 "nbformat_minor": 2
}
